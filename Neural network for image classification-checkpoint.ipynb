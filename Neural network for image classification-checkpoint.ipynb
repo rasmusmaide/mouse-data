{
 "cells": [
  {
   "cell_type": "markdown",
   "metadata": {},
   "source": [
    "Using materials from course MTAT.03.227 Machine Learning"
   ]
  },
  {
   "cell_type": "code",
   "execution_count": 8,
   "metadata": {},
   "outputs": [],
   "source": [
    "import numpy as np\n",
    "import keras\n",
    "from scipy import io"
   ]
  },
  {
   "cell_type": "code",
   "execution_count": 9,
   "metadata": {},
   "outputs": [],
   "source": [
    "mt = io.loadmat('6845348/images_natimg2800_all.mat')"
   ]
  },
  {
   "cell_type": "code",
   "execution_count": 10,
   "metadata": {},
   "outputs": [],
   "source": [
    "imgs = mt['imgs']"
   ]
  },
  {
   "cell_type": "code",
   "execution_count": 11,
   "metadata": {},
   "outputs": [],
   "source": [
    "#divided into 11 classes\n",
    "classes = io.loadmat('stringer-pachitariu-et-al-2018b/classes/stimuli_class_assignment_confident.mat')"
   ]
  },
  {
   "cell_type": "code",
   "execution_count": 12,
   "metadata": {},
   "outputs": [],
   "source": [
    "train = []\n",
    "for i in range(2800):\n",
    "    train.append(imgs[:,:,i])"
   ]
  },
  {
   "cell_type": "code",
   "execution_count": 13,
   "metadata": {},
   "outputs": [],
   "source": [
    "train = np.asarray(train)"
   ]
  },
  {
   "cell_type": "code",
   "execution_count": 14,
   "metadata": {},
   "outputs": [],
   "source": [
    "y_train = np.asarray(classes['class_assignment'][0])"
   ]
  },
  {
   "cell_type": "markdown",
   "metadata": {},
   "source": [
    "Train test split"
   ]
  },
  {
   "cell_type": "code",
   "execution_count": 15,
   "metadata": {},
   "outputs": [],
   "source": [
    "from sklearn.model_selection import train_test_split\n",
    "\n",
    "X_train, X_test, y_train, y_test = train_test_split(train, y_train, test_size=0.12, random_state=0)"
   ]
  },
  {
   "cell_type": "code",
   "execution_count": 16,
   "metadata": {},
   "outputs": [
    {
     "data": {
      "text/plain": [
       "array([1, 1, 1, ..., 2, 2, 2], dtype=uint8)"
      ]
     },
     "execution_count": 16,
     "metadata": {},
     "output_type": "execute_result"
    }
   ],
   "source": [
    "classes['class_assignment'][0]"
   ]
  },
  {
   "cell_type": "code",
   "execution_count": 17,
   "metadata": {},
   "outputs": [
    {
     "data": {
      "text/plain": [
       "array([ 0,  4,  6, ...,  2,  0, 11], dtype=uint8)"
      ]
     },
     "execution_count": 17,
     "metadata": {},
     "output_type": "execute_result"
    }
   ],
   "source": [
    "y_train"
   ]
  },
  {
   "cell_type": "markdown",
   "metadata": {},
   "source": [
    "Standardize the inputs"
   ]
  },
  {
   "cell_type": "code",
   "execution_count": 18,
   "metadata": {},
   "outputs": [],
   "source": [
    "mu = X_train.mean(axis=(0,1,2))\n",
    "std = X_train.std(axis=(0,1,2))\n",
    "X_train_norm = (X_train - mu)/std\n",
    "X_test_norm = (X_test - mu)/std"
   ]
  },
  {
   "cell_type": "markdown",
   "metadata": {},
   "source": [
    "Creating a convolutional neural network"
   ]
  },
  {
   "cell_type": "code",
   "execution_count": 19,
   "metadata": {},
   "outputs": [],
   "source": [
    "from keras.layers import Input, Conv2D, Activation, Flatten, Dense, MaxPooling2D, BatchNormalization, Dropout, Reshape\n",
    "\n",
    "x = Input(shape=(68, 270))\n",
    "rs = Reshape((68, 270, 1))(x)\n",
    "c1 = Conv2D(32, (3, 3), strides=(1, 1), padding=\"same\")(rs)\n",
    "b1 = BatchNormalization()(c1)\n",
    "a1 = Activation('relu')(b1)\n",
    "c2 = Conv2D(32, (3, 3), strides=(1, 1), padding=\"valid\")(a1)\n",
    "b2 = BatchNormalization()(c2)\n",
    "a2 = Activation('relu')(b2)\n",
    "p2 = MaxPooling2D(pool_size=2)(a2)\n",
    "d2 = Dropout(rate=0.25)(p2)\n",
    "f2 = Flatten()(d2)\n",
    "h3 = Dense(100)(f2)\n",
    "b3 = BatchNormalization()(h3)\n",
    "a3 = Activation('relu')(b3)\n",
    "d3 = Dropout(rate=0.5)(a3)\n",
    "z = Dense(12)(d3)\n",
    "p = Activation('softmax')(z)"
   ]
  },
  {
   "cell_type": "code",
   "execution_count": 20,
   "metadata": {},
   "outputs": [
    {
     "name": "stdout",
     "output_type": "stream",
     "text": [
      "Model: \"model_1\"\n",
      "_________________________________________________________________\n",
      "Layer (type)                 Output Shape              Param #   \n",
      "=================================================================\n",
      "input_1 (InputLayer)         (None, 68, 270)           0         \n",
      "_________________________________________________________________\n",
      "reshape_1 (Reshape)          (None, 68, 270, 1)        0         \n",
      "_________________________________________________________________\n",
      "conv2d_1 (Conv2D)            (None, 68, 270, 32)       320       \n",
      "_________________________________________________________________\n",
      "batch_normalization_1 (Batch (None, 68, 270, 32)       128       \n",
      "_________________________________________________________________\n",
      "activation_1 (Activation)    (None, 68, 270, 32)       0         \n",
      "_________________________________________________________________\n",
      "conv2d_2 (Conv2D)            (None, 66, 268, 32)       9248      \n",
      "_________________________________________________________________\n",
      "batch_normalization_2 (Batch (None, 66, 268, 32)       128       \n",
      "_________________________________________________________________\n",
      "activation_2 (Activation)    (None, 66, 268, 32)       0         \n",
      "_________________________________________________________________\n",
      "max_pooling2d_1 (MaxPooling2 (None, 33, 134, 32)       0         \n",
      "_________________________________________________________________\n",
      "dropout_1 (Dropout)          (None, 33, 134, 32)       0         \n",
      "_________________________________________________________________\n",
      "flatten_1 (Flatten)          (None, 141504)            0         \n",
      "_________________________________________________________________\n",
      "dense_1 (Dense)              (None, 100)               14150500  \n",
      "_________________________________________________________________\n",
      "batch_normalization_3 (Batch (None, 100)               400       \n",
      "_________________________________________________________________\n",
      "activation_3 (Activation)    (None, 100)               0         \n",
      "_________________________________________________________________\n",
      "dropout_2 (Dropout)          (None, 100)               0         \n",
      "_________________________________________________________________\n",
      "dense_2 (Dense)              (None, 12)                1212      \n",
      "_________________________________________________________________\n",
      "activation_4 (Activation)    (None, 12)                0         \n",
      "=================================================================\n",
      "Total params: 14,161,936\n",
      "Trainable params: 14,161,608\n",
      "Non-trainable params: 328\n",
      "_________________________________________________________________\n"
     ]
    }
   ],
   "source": [
    "from keras.models import Model\n",
    "from keras.optimizers import Adam\n",
    "\n",
    "model = Model(inputs=x, outputs=p)\n",
    "model.compile(loss='sparse_categorical_crossentropy', optimizer=Adam(lr=0.001), metrics=['accuracy'])\n",
    "model.summary()"
   ]
  },
  {
   "cell_type": "code",
   "execution_count": 21,
   "metadata": {},
   "outputs": [
    {
     "name": "stdout",
     "output_type": "stream",
     "text": [
      "Train on 2365 samples, validate on 99 samples\n",
      "Epoch 1/5\n",
      "2365/2365 [==============================] - 6s 3ms/step - loss: 2.7966 - accuracy: 0.1552 - val_loss: 2.5460 - val_accuracy: 0.1111\n",
      "Epoch 2/5\n",
      "2365/2365 [==============================] - 3s 1ms/step - loss: 1.6912 - accuracy: 0.4482 - val_loss: 2.9675 - val_accuracy: 0.0909\n",
      "Epoch 3/5\n",
      "2365/2365 [==============================] - 3s 1ms/step - loss: 0.9588 - accuracy: 0.7307 - val_loss: 3.0990 - val_accuracy: 0.1212\n",
      "Epoch 4/5\n",
      "2365/2365 [==============================] - 3s 1ms/step - loss: 0.5379 - accuracy: 0.8867 - val_loss: 3.3620 - val_accuracy: 0.0505\n",
      "Epoch 5/5\n",
      "2365/2365 [==============================] - 3s 1ms/step - loss: 0.3575 - accuracy: 0.9416 - val_loss: 3.1586 - val_accuracy: 0.0606\n"
     ]
    }
   ],
   "source": [
    "history = model.fit(X_train_norm, y_train, batch_size=64, epochs=5, validation_split=0.04)"
   ]
  },
  {
   "cell_type": "markdown",
   "metadata": {},
   "source": [
    "Evaluate on test"
   ]
  },
  {
   "cell_type": "code",
   "execution_count": 22,
   "metadata": {
    "scrolled": true
   },
   "outputs": [
    {
     "name": "stdout",
     "output_type": "stream",
     "text": [
      "336/336 [==============================] - 0s 822us/step\n"
     ]
    },
    {
     "data": {
      "text/plain": [
       "[3.2058819021497453, 0.1011904776096344]"
      ]
     },
     "execution_count": 22,
     "metadata": {},
     "output_type": "execute_result"
    }
   ],
   "source": [
    "model.evaluate(X_test_norm, y_test)"
   ]
  },
  {
   "cell_type": "markdown",
   "metadata": {},
   "source": [
    "Evaluate on train"
   ]
  },
  {
   "cell_type": "code",
   "execution_count": 23,
   "metadata": {},
   "outputs": [
    {
     "name": "stdout",
     "output_type": "stream",
     "text": [
      "2464/2464 [==============================] - 1s 411us/step\n"
     ]
    },
    {
     "data": {
      "text/plain": [
       "[1.9594015796463211, 0.3011363744735718]"
      ]
     },
     "execution_count": 23,
     "metadata": {},
     "output_type": "execute_result"
    }
   ],
   "source": [
    "model.evaluate(X_train_norm, y_train)"
   ]
  },
  {
   "cell_type": "code",
   "execution_count": null,
   "metadata": {},
   "outputs": [],
   "source": []
  }
 ],
 "metadata": {
  "kernelspec": {
   "display_name": "Python 3",
   "language": "python",
   "name": "python3"
  },
  "language_info": {
   "codemirror_mode": {
    "name": "ipython",
    "version": 3
   },
   "file_extension": ".py",
   "mimetype": "text/x-python",
   "name": "python",
   "nbconvert_exporter": "python",
   "pygments_lexer": "ipython3",
   "version": "3.7.6"
  }
 },
 "nbformat": 4,
 "nbformat_minor": 2
}
